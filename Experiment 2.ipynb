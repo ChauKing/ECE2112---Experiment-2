{
 "cells": [
  {
   "cell_type": "markdown",
   "id": "81fd46cf-7621-4f47-ada2-306e6e05e0c9",
   "metadata": {},
   "source": [
    "Normalization Problem\n"
   ]
  },
  {
   "cell_type": "code",
   "execution_count": 1,
   "id": "6090c10e-7264-4798-82bf-5035630e4632",
   "metadata": {},
   "outputs": [
    {
     "name": "stdout",
     "output_type": "stream",
     "text": [
      "Original array X:\n",
      " [[-0.15484357  0.09274169  1.05465822  0.83009405 -0.10951156]\n",
      " [ 0.29669606  0.43970932 -1.5112456  -1.0591347  -0.43290009]\n",
      " [-0.84749329  0.81184922  1.4607752   0.29489517  0.54851943]\n",
      " [ 0.6406357   0.29643882 -0.07773234 -0.63669976 -1.60502333]\n",
      " [-1.85236311  0.57931284  0.3753593   0.29538989 -0.00453033]]\n",
      "Normalized array X_normalized:\n",
      " [[-0.17396824  0.12541823  1.28859246  1.01704368 -0.1191516 ]\n",
      " [ 0.37204511  0.54498042 -1.81416447 -1.26746034 -0.51020133]\n",
      " [-1.0115381   0.99498156  1.77967956  0.36986742  0.67655641]\n",
      " [ 0.78794577  0.37173404 -0.08072335 -0.75664114 -1.92756291]\n",
      " [-2.22665255  0.71379259  0.46716672  0.37046565  0.00779441]]\n"
     ]
    }
   ],
   "source": [
    "import numpy as np\n",
    "\n",
    "X = np.random.randn(5, 5)\n",
    "\n",
    "mean = X.mean()\n",
    "std_dev = X.std()\n",
    "\n",
    "X_normalized = (X - mean) / std_dev\n",
    "\n",
    "np.save('X_normalized.npy', X_normalized)\n",
    "\n",
    "print(\"Original array X:\\n\", X)\n",
    "print(\"Normalized array X_normalized:\\n\", X_normalized)\n"
   ]
  },
  {
   "cell_type": "markdown",
   "id": "bf22433a-891e-4e13-b283-73846fcf32ff",
   "metadata": {},
   "source": [
    "Divisible by 3 Problem\n"
   ]
  },
  {
   "cell_type": "code",
   "execution_count": 3,
   "id": "a91a410f-cba6-407d-8c2f-d1b3ed24f1d6",
   "metadata": {},
   "outputs": [
    {
     "name": "stdout",
     "output_type": "stream",
     "text": [
      "Elements divisible by 3:\n",
      " [   9   36   81  144  225  324  441  576  729  900 1089 1296 1521 1764\n",
      " 2025 2304 2601 2916 3249 3600 3969 4356 4761 5184 5625 6084 6561 7056\n",
      " 7569 8100 8649 9216 9801]\n"
     ]
    }
   ],
   "source": [
    "import numpy as np\n",
    "\n",
    "integers = np.arange(1, 101)\n",
    "\n",
    "squares = integers ** 2\n",
    "\n",
    "A = squares.reshape(10, 10)\n",
    "\n",
    "divisible_by_3 = A[A % 3 == 0]\n",
    "\n",
    "np.save('div_by_3.npy', divisible_by_3)\n",
    "\n",
    "print(\"Elements divisible by 3:\\n\", divisible_by_3)"
   ]
  },
  {
   "cell_type": "code",
   "execution_count": null,
   "id": "b75cbe63-c494-4699-8938-df47c24d49f0",
   "metadata": {},
   "outputs": [],
   "source": []
  }
 ],
 "metadata": {
  "kernelspec": {
   "display_name": "Python 3 (ipykernel)",
   "language": "python",
   "name": "python3"
  },
  "language_info": {
   "codemirror_mode": {
    "name": "ipython",
    "version": 3
   },
   "file_extension": ".py",
   "mimetype": "text/x-python",
   "name": "python",
   "nbconvert_exporter": "python",
   "pygments_lexer": "ipython3",
   "version": "3.12.4"
  }
 },
 "nbformat": 4,
 "nbformat_minor": 5
}
